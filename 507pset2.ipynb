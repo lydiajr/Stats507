{
 "cells": [
  {
   "cell_type": "markdown",
   "id": "313d6ca1",
   "metadata": {},
   "source": [
    "# STATS 507 Homework 2\n",
    "Lydia Rogers\n",
    "\n",
    "October 1st, 2021"
   ]
  },
  {
   "cell_type": "markdown",
   "id": "20d92978",
   "metadata": {},
   "source": [
    "## Problem 0"
   ]
  },
  {
   "cell_type": "code",
   "execution_count": 1,
   "id": "31d92c96",
   "metadata": {},
   "outputs": [],
   "source": [
    "# sample_list = [(1, 3, 5), (0, 1, 2), (1, 9, 8)]\n",
    "# op = []\n",
    "# for m in range(len(sample_list)):\n",
    "#     li = [sample_list[m]]\n",
    "#         for n in range(len(sample_list)):\n",
    "#             if (sample_list[m][0] == sample_list[n][0] and\n",
    "#                     sample_list[m][3] != sample_list[n][3]):\n",
    "#                 li.append(sample_list[n])\n",
    "#         op.append(sorted(li, key=lambda dd: dd[3], reverse=True)[0])\n",
    "# res = list(set(op))\n",
    "\n",
    "# print(res)"
   ]
  },
  {
   "cell_type": "markdown",
   "id": "936609c8",
   "metadata": {},
   "source": [
    "- The code above attempts to take a list of tuples and for each unique value of the first element in the tuples, finds the tuple which has the greatest last element, and places that tuple into a list. \n",
    "- The first thing that can be done to improve the code is to correct the indentation error on line 5. Next, many of the calls to each element in `sample_list` go outside of the range of the list, so changing the 3 to some parameter that is less than the length of the tuples within the brackets should help with any out of bounds errors. Finally, I would parametrize `range(len(sample_list))` to avoid code repetition. "
   ]
  },
  {
   "cell_type": "markdown",
   "id": "7736b6be",
   "metadata": {},
   "source": [
    "## Problem 1\n",
    "Reference for working with `assert()` [here](https://stackoverflow.com/questions/3022952/test-assertions-for-tuples-with-floats/3137397)"
   ]
  },
  {
   "cell_type": "code",
   "execution_count": 2,
   "id": "e0217953",
   "metadata": {},
   "outputs": [],
   "source": [
    "# all modules needed for this homework\n",
    "import numpy as np\n",
    "import pandas as pd"
   ]
  },
  {
   "cell_type": "code",
   "execution_count": 3,
   "id": "b24d6938",
   "metadata": {},
   "outputs": [],
   "source": [
    "\"\"\"\n",
    "    Generates a n-element list of k-tuples of random integers between \n",
    "    low and high.\n",
    "\n",
    "    Parameters\n",
    "    ----------\n",
    "    n : integer\n",
    "        the number of tuples we wish to compute.\n",
    "    k : integer, optional\n",
    "        the length of tuple we wish to compute. The default is 2.\n",
    "    low : integer, optional\n",
    "        the lower bound for random number generation. The default is 0.\n",
    "    high : integer, optional\n",
    "        theupper bound for random number generation. The default is 10.\n",
    "\n",
    "     Returns\n",
    "     -------\n",
    "     A n-element list of randomly generated k-tuples of integers between\n",
    "     low and high.\n",
    "\n",
    "\"\"\"\n",
    "def listTuples(n, k = 2, low = 0, high = 10):\n",
    "    rng = np.random.default_rng(seed=42)\n",
    "    return([tuple(rng.integers(low, high, k)) for i in range(n)])\n",
    "\n",
    "listTuples(8)\n",
    "assert(type(listTuples(8)) is list)\n",
    "assert(type(listTuples(8)[0]) is tuple)"
   ]
  },
  {
   "cell_type": "markdown",
   "id": "37c80bda",
   "metadata": {},
   "source": [
    "## Problem 2\n",
    "### Part A"
   ]
  },
  {
   "cell_type": "code",
   "execution_count": 4,
   "id": "a2fec563",
   "metadata": {},
   "outputs": [
    {
     "data": {
      "text/plain": [
       "[(0, 1, 2), (1, 9, 8)]"
      ]
     },
     "execution_count": 4,
     "metadata": {},
     "output_type": "execute_result"
    }
   ],
   "source": [
    "\"\"\"\n",
    "    Takes a list of tuples, and for each unique value of the \n",
    "    tuples at index unique, finds the tuple with the greatest\n",
    "    value of target.\n",
    "\n",
    "    Parameters\n",
    "    ----------\n",
    "    sample_list : list of tuples\n",
    "        a list of the tuples we wish to look at.\n",
    "    unique : integer\n",
    "        the position of the unique element we wish to calculate the \n",
    "        maximum value of target for.\n",
    "    target: integer\n",
    "        the position of the element for which we want to find the \n",
    "        largest value for each unique element at position unique.\n",
    "\n",
    "     Returns\n",
    "     -------\n",
    "     a list that contains for each unique value of the tuples at position \n",
    "     unique, the tuple with the largest value of target\n",
    "\"\"\"\n",
    "def tupleWithGreatestTarget(sample_list, unique, target):\n",
    "    op = []\n",
    "    for m in range(len(sample_list)):\n",
    "        li = [sample_list[m]]\n",
    "        for n in range(len(sample_list)):\n",
    "            if (sample_list[m][unique] == sample_list[n][unique] and\n",
    "                    sample_list[m][target] != sample_list[n][target]):\n",
    "                li.append(sample_list[n])\n",
    "        op.append(sorted(li, key=lambda dd: dd[target], reverse=True)[0])\n",
    "    res = list(set(op))\n",
    "    return(res)\n",
    "\n",
    "sample_list = [(1, 3, 5), (0, 1, 2), (1, 9, 8)]\n",
    "tupleWithGreatestTarget(sample_list, 0, 2)\n"
   ]
  },
  {
   "cell_type": "markdown",
   "id": "6995cf5a",
   "metadata": {},
   "source": [
    "### Part B"
   ]
  },
  {
   "cell_type": "code",
   "execution_count": 5,
   "id": "50fba41e",
   "metadata": {},
   "outputs": [
    {
     "data": {
      "text/plain": [
       "[(0, 1, 2), (1, 9, 8)]"
      ]
     },
     "execution_count": 5,
     "metadata": {},
     "output_type": "execute_result"
    }
   ],
   "source": [
    "\"\"\"\n",
    "    Takes a list of tuples, and for each unique value of the \n",
    "    tuples at index unique, finds the tuple with the greatest\n",
    "    value of target.\n",
    "\n",
    "    Parameters\n",
    "    ----------\n",
    "    sample_list : list of tuples\n",
    "        a list of the tuples we wish to look at.\n",
    "    unique : integer\n",
    "        the position of the unique element we wish to calculate the \n",
    "        maximum value of target for.\n",
    "    target: integer\n",
    "        the position of the element for which we want to find the \n",
    "        largest value for each unique element at position unique.\n",
    "\n",
    "     Returns\n",
    "     -------\n",
    "     a list that contains for each unique value of the tuples at position \n",
    "     unique, the tuple with the largest value of target\n",
    "\"\"\"\n",
    "# first suggestion: get rid of indentation error: done\n",
    "# second suggestion: change 3 to remove out of index error: done\n",
    "# third suggestion: parametrize range(len(sample_list)): done\n",
    "def tupleWithGreatestTargetPartB(sample_list, unique, target):\n",
    "    op = []\n",
    "    iterator = range(len(sample_list))\n",
    "    for m in iterator:\n",
    "        li = [sample_list[m]]\n",
    "        for n in iterator:\n",
    "            if (sample_list[m][unique] == sample_list[n][unique] and\n",
    "                    sample_list[m][target] != sample_list[n][target]):\n",
    "                li.append(sample_list[n])\n",
    "        op.append(sorted(li, key=lambda dd: dd[target], reverse=True)[0])\n",
    "    res = list(set(op))\n",
    "    return(res)\n",
    "\n",
    "sample_list = [(1, 3, 5), (0, 1, 2), (1, 9, 8)]\n",
    "tupleWithGreatestTargetPartB(sample_list, 0, 2)"
   ]
  },
  {
   "cell_type": "markdown",
   "id": "b5fe6d64",
   "metadata": {},
   "source": [
    "### Part C"
   ]
  },
  {
   "cell_type": "code",
   "execution_count": 6,
   "id": "2b443e56",
   "metadata": {},
   "outputs": [
    {
     "data": {
      "text/plain": [
       "[(1, 9, 8), (0, 1, 2)]"
      ]
     },
     "execution_count": 6,
     "metadata": {},
     "output_type": "execute_result"
    }
   ],
   "source": [
    "\"\"\"\n",
    "    Takes a list of tuples, and for each unique value of the \n",
    "    tuples at index unique, finds the tuple with the greatest\n",
    "    value of target.\n",
    "\n",
    "    Parameters\n",
    "    ----------\n",
    "    sample_list : list of tuples\n",
    "        a list of the tuples we wish to look at.\n",
    "    unique : integer\n",
    "        the position of the unique element we wish to calculate the \n",
    "        maximum value of target for.\n",
    "    target: integer\n",
    "        the position of the element for which we want to find the \n",
    "        largest value for each unique element at position unique.\n",
    "\n",
    "     Returns\n",
    "     -------\n",
    "     a list that contains for each unique value of the tuples at position \n",
    "     unique, the tuple with the largest value of target\n",
    "\"\"\"\n",
    "\n",
    "def tupleWithGreatestTargetPartC(sample_list, unique, target):\n",
    "    myDict = {}\n",
    "    res_list = []\n",
    "    \n",
    "    for list_element in sample_list:\n",
    "        if list_element[unique] in myDict.keys():\n",
    "            myDict[list_element[unique]].append(list_element)\n",
    "        else:\n",
    "            myDict[list_element[unique]] = [list_element]\n",
    "            \n",
    "    for key in myDict.keys():\n",
    "        unique_list = list(set(myDict[key]))\n",
    "        res_list.append(sorted(unique_list, \n",
    "                               key = lambda dd : dd[target], \n",
    "                               reverse=True)[0])\n",
    "    return(res_list)\n",
    "\n",
    "sample_list = [(1, 3, 5), (0, 1, 2), (1, 9, 8)]\n",
    "tupleWithGreatestTargetPartC(sample_list, 0, 2)       "
   ]
  },
  {
   "cell_type": "markdown",
   "id": "fedc7321",
   "metadata": {},
   "source": [
    "### Part D"
   ]
  },
  {
   "cell_type": "code",
   "execution_count": null,
   "id": "ad2e7ec8",
   "metadata": {},
   "outputs": [],
   "source": []
  },
  {
   "cell_type": "markdown",
   "id": "ecd74fa5",
   "metadata": {},
   "source": [
    "## Question 3\n",
    "### Part A"
   ]
  },
  {
   "cell_type": "code",
   "execution_count": 7,
   "id": "1d313c36",
   "metadata": {},
   "outputs": [],
   "source": [
    "cols = [\"SEQN\", \"RIDAGEYR\", \"RIDRETH3\", \"DMDEDUC2\", \"DMDMARTL\",\n",
    "        \"RIDSTATR\", \"SDMVPSU\", \"SDMVSTRA\", \"WTMEC2YR\", \"WTINT2YR\"]\n",
    "years = [\"2011-2012\", \"2013-2014\", \"2015-2016\", \"2017-2018\"]\n",
    "letters = [\"G\", \"H\", \"I\", \"J\"]\n",
    "url_str = \"https://wwwn.cdc.gov/Nchs/Nhanes/{f}/DEMO_{g}.XPT\"\n",
    "df = pd.DataFrame(columns = cols + [\"cohort\"])\n",
    "i = 0\n",
    "for y in years:\n",
    "    yearDf = pd.read_sas(url_str.format(f = y, g = letters[i]))\n",
    "    i += 1\n",
    "    yearDf = yearDf[cols]\n",
    "    yearDf[\"cohort\"] = y\n",
    "    df = df.append(yearDf)"
   ]
  },
  {
   "cell_type": "code",
   "execution_count": 8,
   "id": "65b1d6d3",
   "metadata": {},
   "outputs": [
    {
     "name": "stdout",
     "output_type": "stream",
     "text": [
      "rid                   float64\n",
      "age_years             float64\n",
      "race_ethnicity        float64\n",
      "education             float64\n",
      "marital_status        float64\n",
      "interview_exam        float64\n",
      "masked_var_psu        float64\n",
      "masked_var_stratum    float64\n",
      "two_year_mec          float64\n",
      "two_year_interview    float64\n",
      "cohort                 object\n",
      "dtype: object\n",
      "rid                    object\n",
      "age_years             float64\n",
      "race_ethnicity         object\n",
      "education              object\n",
      "marital_status         object\n",
      "interview_exam         object\n",
      "masked_var_psu         object\n",
      "masked_var_stratum     object\n",
      "two_year_mec          float64\n",
      "two_year_interview    float64\n",
      "cohort                 object\n",
      "dtype: object\n"
     ]
    }
   ],
   "source": [
    "df_dem = df.rename(columns={\"SEQN\": \"rid\", \n",
    "                \"RIDAGEYR\":\"age_years\", \n",
    "                \"RIDRETH3\":\"race_ethnicity\", \n",
    "                \"DMDEDUC2\":\"education\", \n",
    "                \"DMDMARTL\":\"marital_status\",\n",
    "                \"RIDSTATR\":\"interview_exam\", \n",
    "                \"SDMVPSU\":\"masked_var_psu\", \n",
    "                \"SDMVSTRA\":\"masked_var_stratum\", \n",
    "                \"WTMEC2YR\":\"two_year_mec\", \n",
    "                \"WTINT2YR\":\"two_year_interview\"})\n",
    "\n",
    "#convert to appropriate types\n",
    "print(df_dem.dtypes)\n",
    "convert_dict = {\"rid\":\"str\",\n",
    "               \"race_ethnicity\":\"str\",\n",
    "               \"education\":\"str\",\n",
    "               \"marital_status\":\"str\",\n",
    "               \"interview_exam\":\"str\",\n",
    "               \"masked_var_psu\":\"str\",\n",
    "               \"masked_var_stratum\":\"str\"}\n",
    "\n",
    "df_dem = df_dem.astype(convert_dict)\n",
    "print(df_dem.dtypes)\n",
    "\n",
    "df_dem.to_pickle(\"./NHANESdemographics.pkl\")"
   ]
  },
  {
   "cell_type": "markdown",
   "id": "fe160c41",
   "metadata": {},
   "source": [
    "### Part B\n",
    "Reference for str.zfill can be found [here](https://www.kite.com/python/answers/how-to-add-leading-zeros-to-a-number-in-python#:~:text=Use%20str.,0%20to%20the%20specified%20width%20.)"
   ]
  },
  {
   "cell_type": "code",
   "execution_count": 9,
   "id": "99c8a7c0",
   "metadata": {},
   "outputs": [
    {
     "name": "stdout",
     "output_type": "stream",
     "text": [
      "SEQN        float64\n",
      "OHDDESTS    float64\n",
      "OHX01TC     float64\n",
      "OHX02TC     float64\n",
      "OHX03TC     float64\n",
      "             ...   \n",
      "OHX28CTC     object\n",
      "OHX29CTC     object\n",
      "OHX30CTC     object\n",
      "OHX31CTC     object\n",
      "cohort       object\n",
      "Length: 63, dtype: object\n",
      "SEQN        object\n",
      "OHDDESTS    object\n",
      "OHX01TC     object\n",
      "OHX02TC     object\n",
      "OHX03TC     object\n",
      "             ...  \n",
      "OHX28CTC    object\n",
      "OHX29CTC    object\n",
      "OHX30CTC    object\n",
      "OHX31CTC    object\n",
      "cohort      object\n",
      "Length: 63, dtype: object\n"
     ]
    }
   ],
   "source": [
    "tooth_cols = [\"OHX{f}TC\".format(f=str(i).zfill(2)) for i in range(1, 33)]\n",
    "cav_cols = [\"OHX{f}CTC\".format(f=str(i).zfill(2)) for i in range(2, 33)]\n",
    "cols = [\"SEQN\", \"OHDDESTS\"] + tooth_cols + cav_cols\n",
    "\n",
    "cols.remove('OHX32CTC')\n",
    "cols.remove('OHX16CTC') \n",
    "cols.remove('OHX17CTC')\n",
    "\n",
    "years = [\"2011-2012\", \"2013-2014\", \"2015-2016\", \"2017-2018\"]\n",
    "letters = [\"G\", \"H\", \"I\", \"J\"]\n",
    "url_str = \"https://wwwn.cdc.gov/Nchs/Nhanes/{f}/OHXDEN_{g}.XPT\"\n",
    "df = pd.DataFrame(columns = cols + [\"cohort\"])\n",
    "i = 0\n",
    "for y in years:\n",
    "    yearDf = pd.read_sas(url_str.format(f = y, g = letters[i]))\n",
    "    i += 1\n",
    "    yearDf = yearDf[cols]\n",
    "    yearDf[\"cohort\"] = y\n",
    "    df = df.append(yearDf)\n",
    "    \n",
    "df_oral = df\n",
    "#convert to appropriate types\n",
    "print(df_oral.dtypes)\n",
    "\n",
    "df_oral = df_oral.astype(\"object\")\n",
    "print(df_oral.dtypes)\n",
    "\n",
    "    \n",
    "df_oral.to_pickle(\"./NHANESoral_dental.pkl\")"
   ]
  },
  {
   "cell_type": "markdown",
   "id": "bf7efd8b",
   "metadata": {},
   "source": [
    "### Part C"
   ]
  },
  {
   "cell_type": "code",
   "execution_count": 10,
   "id": "d665dd4c",
   "metadata": {},
   "outputs": [
    {
     "name": "stdout",
     "output_type": "stream",
     "text": [
      "Cases in demographics data: 39156\n",
      "Cases in oral health data: 35909\n"
     ]
    }
   ],
   "source": [
    "print(\"Cases in demographics data:\", df_dem.shape[0])\n",
    "print(\"Cases in oral health data:\", df_oral.shape[0])"
   ]
  }
 ],
 "metadata": {
  "kernelspec": {
   "display_name": "Python 3",
   "language": "python",
   "name": "python3"
  },
  "language_info": {
   "codemirror_mode": {
    "name": "ipython",
    "version": 3
   },
   "file_extension": ".py",
   "mimetype": "text/x-python",
   "name": "python",
   "nbconvert_exporter": "python",
   "pygments_lexer": "ipython3",
   "version": "3.8.8"
  }
 },
 "nbformat": 4,
 "nbformat_minor": 5
}
