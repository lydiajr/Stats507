{
 "cells": [
  {
   "cell_type": "markdown",
   "id": "d31c7ee6",
   "metadata": {},
   "source": [
    "## Question 3\n",
    "### Part A\n",
    "Note: this is exactly what I submitted for this question for this homework; I did get points taken off for Problem 3 for not choosing appropriate column types."
   ]
  },
  {
   "cell_type": "code",
   "execution_count": 2,
   "id": "22e692c2",
   "metadata": {},
   "outputs": [],
   "source": [
    "# packages used\n",
    "import numpy as np\n",
    "import pandas as pd"
   ]
  },
  {
   "cell_type": "code",
   "execution_count": 3,
   "id": "d0b50f0b",
   "metadata": {},
   "outputs": [],
   "source": [
    "cols = [\"SEQN\", \"RIDAGEYR\", \"RIDRETH3\", \"DMDEDUC2\", \"DMDMARTL\",\n",
    "        \"RIDSTATR\", \"SDMVPSU\", \"SDMVSTRA\", \"WTMEC2YR\", \"WTINT2YR\"]\n",
    "years = [\"2011-2012\", \"2013-2014\", \"2015-2016\", \"2017-2018\"]\n",
    "letters = [\"G\", \"H\", \"I\", \"J\"]\n",
    "url_str = \"https://wwwn.cdc.gov/Nchs/Nhanes/{f}/DEMO_{g}.XPT\"\n",
    "df = pd.DataFrame(columns = cols + [\"cohort\"])\n",
    "i = 0\n",
    "for y in years:\n",
    "    yearDf = pd.read_sas(url_str.format(f = y, g = letters[i]))\n",
    "    i += 1\n",
    "    yearDf = yearDf[cols]\n",
    "    yearDf[\"cohort\"] = y\n",
    "    df = df.append(yearDf)"
   ]
  },
  {
   "cell_type": "code",
   "execution_count": 4,
   "id": "0b2d9942",
   "metadata": {},
   "outputs": [],
   "source": [
    "df_dem = df.rename(columns={\"SEQN\": \"rid\", \n",
    "                \"RIDAGEYR\":\"age_years\", \n",
    "                \"RIDRETH3\":\"race_ethnicity\", \n",
    "                \"DMDEDUC2\":\"education\", \n",
    "                \"DMDMARTL\":\"marital_status\",\n",
    "                \"RIDSTATR\":\"interview_exam\", \n",
    "                \"SDMVPSU\":\"masked_var_psu\", \n",
    "                \"SDMVSTRA\":\"masked_var_stratum\", \n",
    "                \"WTMEC2YR\":\"two_year_mec\", \n",
    "                \"WTINT2YR\":\"two_year_interview\"})\n",
    "\n",
    "df_dem.to_pickle(\"./NHANESdemographics.pkl\")"
   ]
  },
  {
   "cell_type": "markdown",
   "id": "cf6c6596",
   "metadata": {},
   "source": [
    "### Part B\n",
    "Reference for str.zfill can be found [here](https://www.kite.com/python/answers/how-to-add-leading-zeros-to-a-number-in-python#:~:text=Use%20str.,0%20to%20the%20specified%20width%20.)"
   ]
  },
  {
   "cell_type": "code",
   "execution_count": 5,
   "id": "8a221053",
   "metadata": {},
   "outputs": [],
   "source": [
    "tooth_cols = [\"OHX{f}TC\".format(f=str(i).zfill(2)) for i in range(1, 33)]\n",
    "cav_cols = [\"OHX{f}CTC\".format(f=str(i).zfill(2)) for i in range(2, 33)]\n",
    "cols = [\"SEQN\", \"OHDDESTS\"] + tooth_cols + cav_cols\n",
    "\n",
    "cols.remove('OHX32CTC')\n",
    "cols.remove('OHX16CTC') \n",
    "cols.remove('OHX17CTC')\n",
    "\n",
    "years = [\"2011-2012\", \"2013-2014\", \"2015-2016\", \"2017-2018\"]\n",
    "letters = [\"G\", \"H\", \"I\", \"J\"]\n",
    "url_str = \"https://wwwn.cdc.gov/Nchs/Nhanes/{f}/OHXDEN_{g}.XPT\"\n",
    "df = pd.DataFrame(columns = cols + [\"cohort\"])\n",
    "i = 0\n",
    "for y in years:\n",
    "    yearDf = pd.read_sas(url_str.format(f = y, g = letters[i]))\n",
    "    i += 1\n",
    "    yearDf = yearDf[cols]\n",
    "    yearDf[\"cohort\"] = y\n",
    "    df = df.append(yearDf)\n",
    "    \n",
    "df_oral = df\n",
    "    \n",
    "df_oral.to_pickle(\"./NHANESoral_dental.pkl\")"
   ]
  },
  {
   "cell_type": "markdown",
   "id": "d3489ebd",
   "metadata": {},
   "source": [
    "### Part C"
   ]
  },
  {
   "cell_type": "code",
   "execution_count": 6,
   "id": "f2dd35be",
   "metadata": {},
   "outputs": [
    {
     "name": "stdout",
     "output_type": "stream",
     "text": [
      "Cases in demographics data: 39156\n",
      "Cases in oral health data: 35909\n"
     ]
    }
   ],
   "source": [
    "print(\"Cases in demographics data:\", df_dem.shape[0])\n",
    "print(\"Cases in oral health data:\", df_oral.shape[0])"
   ]
  }
 ],
 "metadata": {
  "kernelspec": {
   "display_name": "Python 3",
   "language": "python",
   "name": "python3"
  },
  "language_info": {
   "codemirror_mode": {
    "name": "ipython",
    "version": 3
   },
   "file_extension": ".py",
   "mimetype": "text/x-python",
   "name": "python",
   "nbconvert_exporter": "python",
   "pygments_lexer": "ipython3",
   "version": "3.8.8"
  }
 },
 "nbformat": 4,
 "nbformat_minor": 5
}
