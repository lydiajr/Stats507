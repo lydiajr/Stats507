{
 "cells": [
  {
   "cell_type": "markdown",
   "id": "51e47c15",
   "metadata": {},
   "source": [
    "# STATS 507 Homework 1"
   ]
  },
  {
   "cell_type": "markdown",
   "id": "b4066d2c",
   "metadata": {},
   "source": [
    "## Problem 0: Markdown\n",
    "Formatted Version:\n",
    "\n",
    "This is *question 0* for [problem set 1](https://jbhender.github.io/Stats507/F21/ps/ps1.html) of [Stats 507](https://jbhender.github.io/Stats507/F21/).\n",
    "\n",
    "> Question 0 is about Markdown.\n",
    "\n",
    "The next question is about the **Fibonacci sequence**, $F_n = F_{(n-2)} + F_{(n - 1)}$. In part **a** we will define a Python function `fib_rec()`.\n",
    "\n",
    "Below is a...\n",
    "### Level 3 Header\n",
    "Next, we can make a bulleted list:\n",
    "- Item 1\n",
    "    - detail 1\n",
    "    - detail 2\n",
    "- Item 2\n",
    "\n",
    "Finally, we can make an enumerated list:\n",
    "1. Item 1\n",
    "2. Item 2\n",
    "3. Item 3"
   ]
  },
  {
   "cell_type": "raw",
   "id": "abe40099",
   "metadata": {},
   "source": [
    "Raw Version:\n",
    "This is *question 0* for [problem set 1](https://jbhender.github.io/Stats507/F21/ps/ps1.html) of [Stats 507](https://jbhender.github.io/Stats507/F21/).\n",
    "\n",
    "> Question 0 is about Markdown.\n",
    "\n",
    "The next question is about the **Fibonacci sequence**, $F_n = F_{(n-2)} + F_{(n - 1)}$. In part **a** we will define a Python function `fib_rec()`.\n",
    "\n",
    "Below is a...\n",
    "### Level 3 Header\n",
    "Next, we can make a bulleted list:\n",
    "- Item 1\n",
    "    - detail 1\n",
    "    - detail 2\n",
    "- Item 2\n",
    "\n",
    "Finally, we can make an enumerated list:\n",
    "1. Item 1\n",
    "2. Item 2\n",
    "3. Item 3\n"
   ]
  },
  {
   "cell_type": "code",
   "execution_count": 1,
   "id": "a0831ae6",
   "metadata": {},
   "outputs": [],
   "source": [
    "# import necessary libraries and modules\n",
    "import timeit\n",
    "import pandas as pd\n",
    "from statistics import median\n",
    "import scipy.stats as st\n",
    "import numpy as np"
   ]
  },
  {
   "cell_type": "markdown",
   "id": "f3798f53",
   "metadata": {},
   "source": [
    "## Problem 1: Fibonacci Sequence\n",
    "### Part a"
   ]
  },
  {
   "cell_type": "code",
   "execution_count": 2,
   "id": "d9a56f82",
   "metadata": {},
   "outputs": [
    {
     "name": "stdout",
     "output_type": "stream",
     "text": [
      "13 89 233\n"
     ]
    }
   ],
   "source": [
    "#docstring example\n",
    "\"\"\"\n",
    "    Computes the Fibonacci Sequence at n using recursion.\n",
    "\n",
    "    Parameters\n",
    "    ----------\n",
    "    n : integer\n",
    "        the value of the sequence we wish to compute.\n",
    "    a : integer, optional\n",
    "        the first value in the sequence. The default is 0.\n",
    "    b : integer, optional\n",
    "        the second value in the sequence. The default is 0.\n",
    "\n",
    "     Returns\n",
    "     -------\n",
    "     The value of the Fibonacci sequence at step n.\n",
    "\n",
    "\"\"\"\n",
    "def fib_rec(n, a = 0, b = 1):\n",
    "    if (n == a): \n",
    "        return(0)\n",
    "    elif (n == b): \n",
    "        return(1)\n",
    "    else: \n",
    "        return(fib_rec(n - 2) + fib_rec(n-1))\n",
    "\n",
    "print(fib_rec(7), fib_rec(11), fib_rec(13))\n",
    "    "
   ]
  },
  {
   "cell_type": "markdown",
   "id": "d47880c2",
   "metadata": {},
   "source": [
    "### Part b"
   ]
  },
  {
   "cell_type": "code",
   "execution_count": 3,
   "id": "e2731be4",
   "metadata": {},
   "outputs": [
    {
     "name": "stdout",
     "output_type": "stream",
     "text": [
      "13 89 233\n"
     ]
    }
   ],
   "source": [
    "\"\"\"\n",
    "    Computes the Fibonacci Sequence at n using a for loop.\n",
    "\n",
    "    Parameters\n",
    "    ----------\n",
    "    n : integer\n",
    "        the value of the sequence we wish to compute.\n",
    "    a : integer, optional\n",
    "        the first value in the sequence. The default is 0.\n",
    "    b : integer, optional\n",
    "        the second value in the sequence. The default is 0.\n",
    "\n",
    "     Returns\n",
    "     -------\n",
    "     The value of the Fibonacci sequence at step n.\n",
    "\n",
    "\"\"\"\n",
    "def fib_for(n, a = 0, b = 1):\n",
    "    if n == 0:\n",
    "        return(a)\n",
    "    elif n == 1:\n",
    "        return(b)\n",
    "    else:\n",
    "        #define F_n-1, F_n-2, F_n for storing each value\n",
    "        Fnminus1 = b\n",
    "        Fnminus2 = a\n",
    "        Fn = Fnminus2 + Fnminus1\n",
    "        #loop through remaining \n",
    "        for i in range(2, n + 1):\n",
    "            Fn = Fnminus2 + Fnminus1\n",
    "            Fnminus2 = Fnminus1\n",
    "            Fnminus1 = Fn\n",
    "        return(Fn)  \n",
    "            \n",
    "print(fib_for(7), fib_for(11), fib_for(13))"
   ]
  },
  {
   "cell_type": "markdown",
   "id": "84207b1e",
   "metadata": {},
   "source": [
    "### Part c"
   ]
  },
  {
   "cell_type": "code",
   "execution_count": 4,
   "id": "f6c00d78",
   "metadata": {},
   "outputs": [
    {
     "name": "stdout",
     "output_type": "stream",
     "text": [
      "13 89 233\n"
     ]
    }
   ],
   "source": [
    "\"\"\"\n",
    "    Computes the Fibonacci Sequence at n using a while loop.\n",
    "\n",
    "    Parameters\n",
    "    ----------\n",
    "    n : integer\n",
    "        the value of the sequence we wish to compute.\n",
    "    a : integer, optional\n",
    "        the first value in the sequence. The default is 0.\n",
    "    b : integer, optional\n",
    "        the second value in the sequence. The default is 0.\n",
    "\n",
    "     Returns\n",
    "     -------\n",
    "     The value of the Fibonacci sequence at step n.\n",
    "\n",
    "\"\"\"\n",
    "def fib_whl(n, a = 0, b = 1):\n",
    "    if n == 0:\n",
    "        return(a)\n",
    "    elif n == 1:\n",
    "        return(b)\n",
    "    else:\n",
    "        #define F_n-1, F_n-2, F_n for storing each value\n",
    "        Fnminus1 = b\n",
    "        Fnminus2 = a\n",
    "        Fn = Fnminus2 + Fnminus1\n",
    "        #set starting point\n",
    "        i = 2\n",
    "        #loop through remaining \n",
    "        while i <= n:\n",
    "            Fn = Fnminus2 + Fnminus1\n",
    "            Fnminus2 = Fnminus1\n",
    "            Fnminus1 = Fn\n",
    "            i += 1\n",
    "        return(Fn)  \n",
    "            \n",
    "print(fib_whl(7), fib_whl(11), fib_whl(13))"
   ]
  },
  {
   "cell_type": "markdown",
   "id": "9dd15fa7",
   "metadata": {},
   "source": [
    "### Part d"
   ]
  },
  {
   "cell_type": "code",
   "execution_count": 5,
   "id": "d31850d8",
   "metadata": {},
   "outputs": [
    {
     "name": "stdout",
     "output_type": "stream",
     "text": [
      "13 89 233\n"
     ]
    }
   ],
   "source": [
    "\"\"\"\n",
    "    Computes the Fibonacci Sequence at n using the \n",
    "    rounding method from the Wikipedia article.\n",
    "\n",
    "    Parameters\n",
    "    ----------\n",
    "    n : integer\n",
    "        the value of the sequence we wish to compute.\n",
    "    a : integer, optional\n",
    "        the first value in the sequence. The default is 0.\n",
    "    b : integer, optional\n",
    "        the second value in the sequence. The default is 0.\n",
    "\n",
    "     Returns\n",
    "     -------\n",
    "     The value of the Fibonacci sequence at step n.\n",
    "\n",
    "\"\"\"\n",
    "from math import sqrt, ceil\n",
    "def fib_rnd(n, a = 0, b = 1):\n",
    "    #define psi\n",
    "    psi = (1 + sqrt(5))/2\n",
    "    #ceil() gives us the correct rounding for our test cases\n",
    "    return(ceil((psi ** n)/ sqrt(5)))\n",
    "            \n",
    "print(fib_rnd(7), fib_rnd(11), fib_rnd(13))"
   ]
  },
  {
   "cell_type": "markdown",
   "id": "93748d5f",
   "metadata": {},
   "source": [
    "### Part e"
   ]
  },
  {
   "cell_type": "code",
   "execution_count": 6,
   "id": "a3da7e13",
   "metadata": {},
   "outputs": [
    {
     "name": "stdout",
     "output_type": "stream",
     "text": [
      "13 89 233\n"
     ]
    }
   ],
   "source": [
    "\"\"\"\n",
    "    Computes the Fibonacci Sequence at n using the \n",
    "    truncation method from the Wikipedia article.\n",
    "\n",
    "    Parameters\n",
    "    ----------\n",
    "    n : integer\n",
    "        the value of the sequence we wish to compute.\n",
    "    a : integer, optional\n",
    "        the first value in the sequence. The default is 0.\n",
    "    b : integer, optional\n",
    "        the second value in the sequence. The default is 0.\n",
    "\n",
    "     Returns\n",
    "     -------\n",
    "     The value of the Fibonacci sequence at step n.\n",
    "\n",
    "\"\"\"\n",
    "from math import sqrt, floor\n",
    "def fib_flr(n, a = 0, b = 1):\n",
    "    #define psi\n",
    "    psi = (1 + sqrt(5))/2\n",
    "    #use formula from wikipedia article\n",
    "    return(floor(((psi ** n)/ sqrt(5))+ (1/2)))\n",
    "            \n",
    "print(fib_flr(7), fib_flr(11), fib_flr(13))"
   ]
  },
  {
   "cell_type": "markdown",
   "id": "7eee7438",
   "metadata": {},
   "source": [
    "### Part f\n",
    "Reference for `timeit.repeat()` can be found [here](https://www.geeksforgeeks.org/how-to-measure-elapsed-time-in-python/)"
   ]
  },
  {
   "cell_type": "code",
   "execution_count": 7,
   "id": "9d714465",
   "metadata": {},
   "outputs": [
    {
     "name": "stdout",
     "output_type": "stream",
     "text": [
      "|   F_n |   Recursive Method |   For Loop Method |   While Loop Method |   Rounding Method |   Floor Method |\n",
      "|------:|-------------------:|------------------:|--------------------:|------------------:|---------------:|\n",
      "|   5.0 |         5.9e-06    |          1.9e-06  |            1.6e-06  |          2.05e-06 |        2.1e-06 |\n",
      "|  10.0 |         3.375e-05  |          1.4e-06  |            1.5e-06  |          1.2e-06  |        1.2e-06 |\n",
      "|  15.0 |         0.00037235 |          1.7e-06  |            2.1e-06  |          1.1e-06  |        1.1e-06 |\n",
      "|  20.0 |         0.00434645 |          2e-06    |            2.7e-06  |          1.2e-06  |        1.1e-06 |\n",
      "|  25.0 |         0.0512365  |          2.35e-06 |            3.3e-06  |          1.1e-06  |        1.1e-06 |\n",
      "|  30.0 |         0.606908   |          2.6e-06  |            3.75e-06 |          1.1e-06  |        1.2e-06 |\n",
      "Table 1: Runtime (in seconds) of various methods for calculating the Fibonacci Sequence at various locations F_n\n"
     ]
    }
   ],
   "source": [
    "# define increasing values of n\n",
    "n = [5, 10, 15, 20, 25, 30]\n",
    "\n",
    "# define series to store each runtime value for each function\n",
    "fib_rec_series = pd.Series([0] * 6)\n",
    "fib_for_series = pd.Series([0] * 6)\n",
    "fib_whl_series = pd.Series([0] * 6)\n",
    "fib_rnd_series = pd.Series([0] * 6)\n",
    "fib_flr_series = pd.Series([0] * 6)\n",
    "\n",
    "# combine all series into a dataframe\n",
    "df = pd.DataFrame({\"F_n\":n,\n",
    "                   \"Recursive Method\":fib_rec_series,\n",
    "                   \"For Loop Method\":fib_for_series,\n",
    "                   \"While Loop Method\":fib_whl_series,\n",
    "                   \"Rounding Method\":fib_rnd_series,\n",
    "                   \"Floor Method\":fib_flr_series})\n",
    "df.set_index(\"F_n\")\n",
    "\n",
    "# run each function 10 times for each n, storing the results\n",
    "for i in n:\n",
    "    # compute time for each function\n",
    "    runtime_rec = timeit.repeat(lambda: fib_rec(i), number=1, repeat=10)\n",
    "    runtime_for = timeit.repeat(lambda: fib_for(i), number=1, repeat=10)\n",
    "    runtime_whl = timeit.repeat(lambda: fib_whl(i), number=1, repeat=10)\n",
    "    runtime_rnd = timeit.repeat(lambda: fib_rnd(i), number=1, repeat=10)\n",
    "    runtime_flr = timeit.repeat(lambda: fib_flr(i), number=1, repeat=10)\n",
    "\n",
    "    # take the median for the runtime and store it in associated series\n",
    "    df.loc[df[\"F_n\"] == i, \"Recursive Method\"] = median(runtime_rec)\n",
    "    df.loc[df[\"F_n\"] == i, \"For Loop Method\"] = median(runtime_for)\n",
    "    df.loc[df[\"F_n\"] == i, \"While Loop Method\"] = median(runtime_whl)\n",
    "    df.loc[df[\"F_n\"] == i, \"Rounding Method\"] = median(runtime_rnd)\n",
    "    df.loc[df[\"F_n\"] == i, \"Floor Method\"] = median(runtime_flr)\n",
    "\n",
    "#print results\n",
    "df[\"F_n\"] = df[\"F_n\"].astype(\"int\")\n",
    "df = df.rename({\"F_n\":\"Number of Fibonacci Numbers to Calculate\"})\n",
    "df.style.set_table_attributes(\n",
    "    \"style='display:inline'\").set_caption(\n",
    "    \"Runtime of Various Fibonacci Sequence Calculation Methods\")\n",
    "print(df.to_markdown(index = False, floatfmt = \".6\"))\n",
    "print(\"Table 1: Runtime (in seconds) of various methods for calculating the Fibonacci Sequence at various locations F_n\")"
   ]
  },
  {
   "cell_type": "markdown",
   "id": "d6b3f97b",
   "metadata": {},
   "source": [
    "## Problem 2\n",
    "### Part a"
   ]
  },
  {
   "cell_type": "code",
   "execution_count": 8,
   "id": "85e3cc5e",
   "metadata": {},
   "outputs": [
    {
     "data": {
      "text/plain": [
       "[1, 7.0, 21.0, 35.0, 35.0, 21.0, 7.0, 1.0]"
      ]
     },
     "execution_count": 8,
     "metadata": {},
     "output_type": "execute_result"
    }
   ],
   "source": [
    "\"\"\"\n",
    "    Computes Pascal's Triangle at row n.\n",
    "\n",
    "    Parameters\n",
    "    ----------\n",
    "    n : integer\n",
    "        the row of Pascal's triangle to compute\n",
    "\n",
    "     Returns\n",
    "     -------\n",
    "     An array of all the values of \n",
    "     Pascal's triangle for row n.\n",
    "\n",
    "\"\"\"\n",
    "def rowPascal(n):\n",
    "    if n == 0:\n",
    "        return([1])\n",
    "    else:\n",
    "        rowN = [0]*(n+1)\n",
    "        rowN[0] = 1\n",
    "        for k in range(1, n+1):\n",
    "            rowN[k] = rowN[k-1] * ((n + 1 - k)/k)\n",
    "        return(rowN)\n",
    "        \n",
    "rowPascal(7)        "
   ]
  },
  {
   "cell_type": "markdown",
   "id": "d1e283fe",
   "metadata": {},
   "source": [
    "### Part b\n",
    "Reference for center function [here](https://www.w3schools.com/python/ref_string_center.asp)"
   ]
  },
  {
   "cell_type": "code",
   "execution_count": 9,
   "id": "c7aac793",
   "metadata": {},
   "outputs": [
    {
     "name": "stdout",
     "output_type": "stream",
     "text": [
      "                1                \n",
      "               1 1               \n",
      "              1 2 1              \n",
      "             1 3 3 1             \n",
      "            1 4 6 4 1            \n",
      "          1 5 10 10 5 1          \n",
      "         1 6 15 20 15 6 1        \n",
      "       1 7 21 35 35 21 7 1       \n",
      "      1 8 28 56 70 56 28 8 1     \n",
      "   1 9 36 84 126 126 84 36 9 1   \n",
      "1 10 45 120 210 252 210 120 45 10 1\n"
     ]
    }
   ],
   "source": [
    "\"\"\"\n",
    "    Prints the first n rows of Pascal's Triangle.\n",
    "\n",
    "    Parameters\n",
    "    ----------\n",
    "    n : integer\n",
    "        the number of rows of Pascal's triangle to print\n",
    "\n",
    "     Returns\n",
    "     -------\n",
    "     Nothing.\n",
    "\n",
    "\"\"\"\n",
    "def printPascal(n):\n",
    "    for i in range(0, n + 1):\n",
    "        out = ' '.join([str(int(elem)) for elem in rowPascal(i)])   \n",
    "        print(out.center(3*(n+1)))\n",
    "        \n",
    "printPascal(10)   "
   ]
  },
  {
   "cell_type": "markdown",
   "id": "ff7e3a22",
   "metadata": {},
   "source": [
    "## Question 3\n",
    "### Part a\n",
    "\n",
    "Reference for stats.norm.ppf [here](https://stackoverflow.com/questions/20864847/probability-to-z-score-and-vice-versa).\n",
    "Reference for stats.sem [here](https://docs.scipy.org/doc/scipy/reference/generated/scipy.stats.sem.html)"
   ]
  },
  {
   "cell_type": "code",
   "execution_count": 10,
   "id": "9b503d88",
   "metadata": {},
   "outputs": [],
   "source": [
    "\"\"\"\n",
    "    Compute point and confidence interval estimates for \n",
    "    the mean of a 1d numpy array.\n",
    "\n",
    "    Parameters\n",
    "    ----------\n",
    "    est: float\n",
    "        the estimate of the mean\n",
    "    \n",
    "    lwr: float\n",
    "        the lower estimate of the level% CI\n",
    "    \n",
    "    upr: float\n",
    "        the upper estimate of the level% CI\n",
    "        \n",
    "    level: float\n",
    "        the confidence level to compute, as a decimal \n",
    "    \n",
    "    form: string\n",
    "        must have 4 fields to format\n",
    "        if specified, adds results to specified format\n",
    "\n",
    "     Returns\n",
    "     -------\n",
    "     String in the format specified by form.\n",
    "\n",
    "\"\"\"\n",
    "def printPrettyCI(est, lwr, upr, level, \n",
    "                  form = \"{0:.7f} [{1:.0f}%CI: ({2:.7f},{3:.7f})]\"):\n",
    "    ciStr = form\n",
    "    formatStr = ciStr.format(est, level * 100, lwr, upr)\n",
    "    return(formatStr)\n",
    "\n",
    "    "
   ]
  },
  {
   "cell_type": "code",
   "execution_count": 11,
   "id": "cde09600",
   "metadata": {},
   "outputs": [
    {
     "data": {
      "text/plain": [
       "'0.4666667 [95%CI: (0.3630199,0.5703135)]'"
      ]
     },
     "execution_count": 11,
     "metadata": {},
     "output_type": "execute_result"
    }
   ],
   "source": [
    "\"\"\"\n",
    "    Compute point and confidence interval estimates for \n",
    "    the mean of a 1d numpy array.\n",
    "\n",
    "    Parameters\n",
    "    ----------\n",
    "    dat : 1-d numpy array\n",
    "        the data to calculate the mean and estimates for\n",
    "    interval : float\n",
    "        the % confidence interval desired represented as a decimal\n",
    "\n",
    "     Returns\n",
    "     -------\n",
    "     String in the format \n",
    "     (point estimate)[(confidencelevelCI)%CI: (lower estimate, upper estimate)].\n",
    "\n",
    "\"\"\"\n",
    "def intervalEstNorm(dat, interval, \n",
    "                    form = \"{0:.7f} [{1:.0f}%CI: ({2:.7f},{3:.7f})]\"):\n",
    "    dat = np.array(dat)\n",
    "    m = dat.mean()\n",
    "    # calculate associated z score for interval\n",
    "    z = st.norm.ppf(1-(1-interval)/2)\n",
    "    se = st.sem(dat)\n",
    "    return(printPrettyCI(m, m - (z*se), m + (z*se), interval,\n",
    "                        form))\n",
    "\n",
    "intervalEstNorm(np.array(([0]*48) + ([1]*42)), 0.95)\n",
    "    "
   ]
  },
  {
   "cell_type": "markdown",
   "id": "e9d61034",
   "metadata": {},
   "source": [
    "### Part B \n",
    "Reference for stats.beta [here](https://docs.scipy.org/doc/scipy/reference/generated/scipy.stats.beta.html)"
   ]
  },
  {
   "cell_type": "code",
   "execution_count": 12,
   "id": "cf6cbdb7",
   "metadata": {},
   "outputs": [
    {
     "name": "stdout",
     "output_type": "stream",
     "text": [
      "0.4666667 [95%CI: (0.3635973,0.5697360)]\n",
      "0.4666667 [95%CI: (0.3607157,0.5748727)]\n",
      "0.4666667 [95%CI: (0.3660149,0.5694242)]\n",
      "0.4666667 [95%CI: (0.3670754,0.5689870)]\n"
     ]
    }
   ],
   "source": [
    "\"\"\"\n",
    "    Compute point and confidence interval estimates for \n",
    "    the mean of a 1d numpy array using one of four\n",
    "    different methods: \"Normal Approximation\", \"Clopper-Pearson\",\n",
    "    \"Jeffrey's\", \"Agresti-Coull\".\n",
    "\n",
    "    Parameters\n",
    "    ----------\n",
    "    dat : 1-d numpy array\n",
    "        the data to calculate the mean and estimates for\n",
    "    interval : float\n",
    "        the % confidence interval desired represented as a decimal\n",
    "    method : string\n",
    "        one of \"Normal Approximation\", \"Clopper-Pearson\",\n",
    "        \"Jeffrey's\", \"Agresti-Coull\"\n",
    "        the method used to compute the confidence interval\n",
    "    form : string\n",
    "        the format to be passed to printPrettyCI().\n",
    "        if None, returns a dictionary\n",
    "\n",
    "     Returns\n",
    "     -------\n",
    "     String in the format specified by form, \n",
    "     or dictionary of {est, lwr, upr, level} if form = None.\n",
    "\n",
    "\"\"\"\n",
    "def intervalEst(dat, interval, method, \n",
    "                form = \"{0:.7f} [{1:.0f}%CI: ({2:.7f},{3:.7f})]\"):\n",
    "    # declare constants\n",
    "    dat = np.array(dat)\n",
    "    n = dat.size\n",
    "    x = dat.sum() #number of successes\n",
    "    phat = dat.mean()\n",
    "    z = st.norm.ppf(1-(1-interval)/2)\n",
    "    alpha = 1 - interval\n",
    "    \n",
    "    #calculate lower and upper bounds for each method\n",
    "    if method == \"Normal Approximation\":\n",
    "        if (n*phat <=12) or (n*(1-phat) <= 12):\n",
    "            print(\"Warning: n time phat or n times (1-phat) <= 12\")\n",
    "        lwr = phat - z * np.sqrt((phat * (1-phat))/n)\n",
    "        upr = phat + z * np.sqrt((phat * (1-phat))/n)\n",
    "\n",
    "        \n",
    "    elif method == \"Clopper-Pearson\":\n",
    "        lwr = st.beta.ppf(alpha/2, x, n-x+1)\n",
    "        upr = st.beta.ppf(1-(alpha/2), x + 1, n - x)\n",
    "        \n",
    "    elif method == \"Jeffrey's\":\n",
    "        lwr = max(0, st.beta.ppf(alpha/2, x + 0.5, n - x + 0.5))\n",
    "        upr = min(1, st.beta.ppf(1-alpha/2, x + 0.5, n - x + 0.5))\n",
    "    \n",
    "    elif method == \"Agresti-Coull\":\n",
    "        ntilde = n + z ** 2\n",
    "        ptilde = (x + z**2/2)/ntilde\n",
    "        lwr = ptilde - z * np.sqrt((ptilde * (1-ptilde))/ntilde)\n",
    "        upr = ptilde + z * np.sqrt((ptilde * (1-ptilde))/ntilde)\n",
    "    \n",
    "    else:\n",
    "        print(\"Not a valid method: Please try again.\")\n",
    "        return(0)\n",
    "    \n",
    "    if form == None:\n",
    "        return({\"est\": phat, \"lwr\": lwr, \"upr\":upr, \"level\":interval})\n",
    "    \n",
    "    return(printPrettyCI(phat, lwr, upr, interval, form))\n",
    "\n",
    "dat = np.array(([0]*48) + ([1]*42))\n",
    "for i in [\"Normal Approximation\", \"Clopper-Pearson\",\n",
    "        \"Jeffrey's\", \"Agresti-Coull\"]:\n",
    "    print(intervalEst(dat, 0.95, i))"
   ]
  },
  {
   "cell_type": "markdown",
   "id": "a0416f06",
   "metadata": {},
   "source": [
    "### Part C"
   ]
  },
  {
   "cell_type": "code",
   "execution_count": 13,
   "id": "ba171120",
   "metadata": {},
   "outputs": [
    {
     "name": "stdout",
     "output_type": "stream",
     "text": [
      "|   Confidence Level | Normal Theory   | Normal Approximation   | Clopper-Pearson   | Jeffrey's       | Agresti-Coull   |\n",
      "|-------------------:|:----------------|:-----------------------|:------------------|:----------------|:----------------|\n",
      "|               0.9  | (0.3797,0.5536) | (0.3802,0.5532)        | (0.3765,0.5586)   | (0.3818,0.5531) | (0.3824,0.5529) |\n",
      "|               0.95 | (0.3630,0.5703) | (0.3636,0.5697)        | (0.3607,0.5749)   | (0.3660,0.5694) | (0.3671,0.5690) |\n",
      "|               0.99 | (0.3305,0.6029) | (0.3312,0.6021)        | (0.3306,0.6064)   | (0.3357,0.6010) | (0.3382,0.5997) |\n"
     ]
    }
   ],
   "source": [
    "dat = np.array(([0]*48) + ([1]*42))\n",
    "form = \"({2:.4f},{3:.4f})\"\n",
    "levels = [0.9, 0.95, 0.99]\n",
    "methods = [\"Normal Approximation\",\"Clopper-Pearson\",\n",
    "        \"Jeffrey's\", \"Agresti-Coull\"]\n",
    "\n",
    "#start with normal method\n",
    "norm = [intervalEstNorm(dat, i, form) for i in levels]\n",
    "df = pd.DataFrame({\"Confidence Level\":levels,\"Normal Theory\":norm})\n",
    "\n",
    "#for each method,\n",
    "for m in methods:\n",
    "    values = [intervalEst(dat, i, m, form) for i in levels]\n",
    "    df[m] = values\n",
    "print(df.to_markdown(index = False))\n"
   ]
  },
  {
   "cell_type": "markdown",
   "id": "fec5a35a",
   "metadata": {},
   "source": [
    "For all of the confidence interval methods, we can observe that the Agresti-Coulli method gives us the smallest width."
   ]
  }
 ],
 "metadata": {
  "kernelspec": {
   "display_name": "Python 3",
   "language": "python",
   "name": "python3"
  },
  "language_info": {
   "codemirror_mode": {
    "name": "ipython",
    "version": 3
   },
   "file_extension": ".py",
   "mimetype": "text/x-python",
   "name": "python",
   "nbconvert_exporter": "python",
   "pygments_lexer": "ipython3",
   "version": "3.8.8"
  }
 },
 "nbformat": 4,
 "nbformat_minor": 5
}
