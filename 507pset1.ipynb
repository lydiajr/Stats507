{
 "cells": [
  {
   "cell_type": "markdown",
   "id": "d106a54e",
   "metadata": {},
   "source": [
    "# STATS 507 Homework 1"
   ]
  },
  {
   "cell_type": "markdown",
   "id": "8fddfbe0",
   "metadata": {},
   "source": [
    "## Problem 0: Markdown\n",
    "This is *question 0* for [problem set 1](https://jbhender.github.io/Stats507/F21/ps/ps1.html) of [Stats 507](https://jbhender.github.io/Stats507/F21/).\n",
    "\n",
    "> Question 0 is about Markdown.\n",
    "\n",
    "The next question is about the **Fibonacci sequence**, $F_n = F_(n-2) + F_(n - 1)$. In part **a** we will define a Python function `fib_rec()`.\n",
    "\n",
    "Below is a...\n",
    "### Level 3 Header\n",
    "Next, we can make a bulleted list:\n",
    "- Item 1\n",
    "    - detail 1\n",
    "    - detail 2\n",
    "- Item 2\n",
    "\n",
    "Finally, we can make an enumerated list:\n",
    "1. Item 1\n",
    "2. Item 2\n",
    "3. Item 3\n"
   ]
  },
  {
   "cell_type": "code",
   "execution_count": 190,
   "id": "f0cffdaf",
   "metadata": {},
   "outputs": [],
   "source": [
    "# import necessary libraries and modules\n",
    "import time\n",
    "import pandas as pd\n",
    "from statistics import median\n",
    "import scipy.stats as st\n",
    "import numpy as np"
   ]
  },
  {
   "cell_type": "markdown",
   "id": "ff25956f",
   "metadata": {},
   "source": [
    "## Problem 1: Fibonacci Sequence\n",
    "### Part a"
   ]
  },
  {
   "cell_type": "code",
   "execution_count": 191,
   "id": "36a1e679",
   "metadata": {},
   "outputs": [
    {
     "name": "stdout",
     "output_type": "stream",
     "text": [
      "13 89 233\n"
     ]
    }
   ],
   "source": [
    "#docstring example\n",
    "\"\"\"\n",
    "    Computes the Fibonacci Sequence at n using recursion.\n",
    "\n",
    "    Parameters\n",
    "    ----------\n",
    "    n : integer\n",
    "        the value of the sequence we wish to compute.\n",
    "    a : integer, optional\n",
    "        the first value in the sequence. The default is 0.\n",
    "    b : integer, optional\n",
    "        the second value in the sequence. The default is 0.\n",
    "\n",
    "     Returns\n",
    "     -------\n",
    "     The value of the Fibonacci sequence at step n.\n",
    "\n",
    "\"\"\"\n",
    "def fib_rec(n, a = 0, b = 1):\n",
    "    if (n == a): \n",
    "        return(0)\n",
    "    elif (n == b): \n",
    "        return(1)\n",
    "    else: \n",
    "        return(fib_rec(n - 2) + fib_rec(n-1))\n",
    "\n",
    "print(fib_rec(7), fib_rec(11), fib_rec(13))\n",
    "    "
   ]
  },
  {
   "cell_type": "markdown",
   "id": "c22fd5ef",
   "metadata": {},
   "source": [
    "### Part b"
   ]
  },
  {
   "cell_type": "code",
   "execution_count": 192,
   "id": "155b6a44",
   "metadata": {},
   "outputs": [
    {
     "name": "stdout",
     "output_type": "stream",
     "text": [
      "13 89 233\n"
     ]
    }
   ],
   "source": [
    "\"\"\"\n",
    "    Computes the Fibonacci Sequence at n using a for loop.\n",
    "\n",
    "    Parameters\n",
    "    ----------\n",
    "    n : integer\n",
    "        the value of the sequence we wish to compute.\n",
    "    a : integer, optional\n",
    "        the first value in the sequence. The default is 0.\n",
    "    b : integer, optional\n",
    "        the second value in the sequence. The default is 0.\n",
    "\n",
    "     Returns\n",
    "     -------\n",
    "     The value of the Fibonacci sequence at step n.\n",
    "\n",
    "\"\"\"\n",
    "def fib_for(n, a = 0, b = 1):\n",
    "    if n == 0:\n",
    "        return(a)\n",
    "    elif n == 1:\n",
    "        return(b)\n",
    "    else:\n",
    "        #define F_n-1, F_n-2, F_n for storing each value\n",
    "        Fnminus1 = b\n",
    "        Fnminus2 = a\n",
    "        Fn = Fnminus2 + Fnminus1\n",
    "        #loop through remaining \n",
    "        for i in range(2, n + 1):\n",
    "            Fn = Fnminus2 + Fnminus1\n",
    "            Fnminus2 = Fnminus1\n",
    "            Fnminus1 = Fn\n",
    "        return(Fn)  \n",
    "            \n",
    "print(fib_for(7), fib_for(11), fib_for(13))"
   ]
  },
  {
   "cell_type": "markdown",
   "id": "bbaded98",
   "metadata": {},
   "source": [
    "### Part c"
   ]
  },
  {
   "cell_type": "code",
   "execution_count": 193,
   "id": "ccb08338",
   "metadata": {},
   "outputs": [
    {
     "name": "stdout",
     "output_type": "stream",
     "text": [
      "13 89 233\n"
     ]
    }
   ],
   "source": [
    "\"\"\"\n",
    "    Computes the Fibonacci Sequence at n using a while loop.\n",
    "\n",
    "    Parameters\n",
    "    ----------\n",
    "    n : integer\n",
    "        the value of the sequence we wish to compute.\n",
    "    a : integer, optional\n",
    "        the first value in the sequence. The default is 0.\n",
    "    b : integer, optional\n",
    "        the second value in the sequence. The default is 0.\n",
    "\n",
    "     Returns\n",
    "     -------\n",
    "     The value of the Fibonacci sequence at step n.\n",
    "\n",
    "\"\"\"\n",
    "def fib_whl(n, a = 0, b = 1):\n",
    "    if n == 0:\n",
    "        return(a)\n",
    "    elif n == 1:\n",
    "        return(b)\n",
    "    else:\n",
    "        #define F_n-1, F_n-2, F_n for storing each value\n",
    "        Fnminus1 = b\n",
    "        Fnminus2 = a\n",
    "        Fn = Fnminus2 + Fnminus1\n",
    "        #set starting point\n",
    "        i = 2\n",
    "        #loop through remaining \n",
    "        while i <= n:\n",
    "            Fn = Fnminus2 + Fnminus1\n",
    "            Fnminus2 = Fnminus1\n",
    "            Fnminus1 = Fn\n",
    "            i += 1\n",
    "        return(Fn)  \n",
    "            \n",
    "print(fib_whl(7), fib_whl(11), fib_whl(13))"
   ]
  },
  {
   "cell_type": "markdown",
   "id": "b6ca927f",
   "metadata": {},
   "source": [
    "### Part d"
   ]
  },
  {
   "cell_type": "code",
   "execution_count": 194,
   "id": "194ec98c",
   "metadata": {},
   "outputs": [
    {
     "name": "stdout",
     "output_type": "stream",
     "text": [
      "13 89 233\n"
     ]
    }
   ],
   "source": [
    "\"\"\"\n",
    "    Computes the Fibonacci Sequence at n using the \n",
    "    rounding method from the Wikipedia article.\n",
    "\n",
    "    Parameters\n",
    "    ----------\n",
    "    n : integer\n",
    "        the value of the sequence we wish to compute.\n",
    "    a : integer, optional\n",
    "        the first value in the sequence. The default is 0.\n",
    "    b : integer, optional\n",
    "        the second value in the sequence. The default is 0.\n",
    "\n",
    "     Returns\n",
    "     -------\n",
    "     The value of the Fibonacci sequence at step n.\n",
    "\n",
    "\"\"\"\n",
    "from math import sqrt, ceil\n",
    "def fib_rnd(n, a = 0, b = 1):\n",
    "    #define psi\n",
    "    psi = (1 + sqrt(5))/2\n",
    "    #ceil() gives us the correct rounding for our test cases\n",
    "    return(ceil((psi ** n)/ sqrt(5)))\n",
    "            \n",
    "print(fib_rnd(7), fib_rnd(11), fib_rnd(13))"
   ]
  },
  {
   "cell_type": "markdown",
   "id": "679313b7",
   "metadata": {},
   "source": [
    "### Part e"
   ]
  },
  {
   "cell_type": "code",
   "execution_count": 195,
   "id": "b6444686",
   "metadata": {},
   "outputs": [
    {
     "name": "stdout",
     "output_type": "stream",
     "text": [
      "13 89 233\n"
     ]
    }
   ],
   "source": [
    "\"\"\"\n",
    "    Computes the Fibonacci Sequence at n using the \n",
    "    truncation method from the Wikipedia article.\n",
    "\n",
    "    Parameters\n",
    "    ----------\n",
    "    n : integer\n",
    "        the value of the sequence we wish to compute.\n",
    "    a : integer, optional\n",
    "        the first value in the sequence. The default is 0.\n",
    "    b : integer, optional\n",
    "        the second value in the sequence. The default is 0.\n",
    "\n",
    "     Returns\n",
    "     -------\n",
    "     The value of the Fibonacci sequence at step n.\n",
    "\n",
    "\"\"\"\n",
    "from math import sqrt, floor\n",
    "def fib_flr(n, a = 0, b = 1):\n",
    "    #define psi\n",
    "    psi = (1 + sqrt(5))/2\n",
    "    #use formula from wikipedia article\n",
    "    return(floor(((psi ** n)/ sqrt(5))+ (1/2)))\n",
    "            \n",
    "print(fib_flr(7), fib_flr(11), fib_flr(13))"
   ]
  },
  {
   "cell_type": "markdown",
   "id": "a8dea801",
   "metadata": {},
   "source": [
    "### Part f"
   ]
  },
  {
   "cell_type": "code",
   "execution_count": 196,
   "id": "9cabde5e",
   "metadata": {},
   "outputs": [
    {
     "name": "stdout",
     "output_type": "stream",
     "text": [
      "|    |   F_n |   Recursive Method |   For Loop Method |   While Loop Method |   Rounding Method |   Floor Method |\n",
      "|---:|------:|-------------------:|------------------:|--------------------:|------------------:|---------------:|\n",
      "|  0 |     5 |        0           |                 0 |                   0 |                 0 |              0 |\n",
      "|  1 |    10 |        0           |                 0 |                   0 |                 0 |              0 |\n",
      "|  2 |    15 |        0.000496507 |                 0 |                   0 |                 0 |              0 |\n",
      "|  3 |    20 |        0.00598395  |                 0 |                   0 |                 0 |              0 |\n",
      "|  4 |    25 |        0.0618355   |                 0 |                   0 |                 0 |              0 |\n",
      "|  5 |    30 |        0.711594    |                 0 |                   0 |                 0 |              0 |\n"
     ]
    }
   ],
   "source": [
    "# define increasing values of n\n",
    "n = [5, 10, 15, 20, 25, 30]\n",
    "\n",
    "# define series to store each runtime value for each function\n",
    "fib_rec_series = pd.Series([0] * 6)\n",
    "fib_for_series = pd.Series([0] * 6)\n",
    "fib_whl_series = pd.Series([0] * 6)\n",
    "fib_rnd_series = pd.Series([0] * 6)\n",
    "fib_flr_series = pd.Series([0] * 6)\n",
    "\n",
    "# combine all series into a dataframe\n",
    "df = pd.DataFrame({\"F_n\":n,\n",
    "                   \"Recursive Method\":fib_rec_series,\n",
    "                   \"For Loop Method\":fib_for_series,\n",
    "                   \"While Loop Method\":fib_whl_series,\n",
    "                   \"Rounding Method\":fib_rnd_series,\n",
    "                   \"Floor Method\":fib_flr_series})\n",
    "df.set_index(\"F_n\")\n",
    "\n",
    "# run each function 10 times for each n, storing the results\n",
    "for i in n:\n",
    "    runtime_rec = [0] * 10\n",
    "    runtime_for = [0] * 10\n",
    "    runtime_whl = [0] * 10\n",
    "    runtime_rnd = [0] * 10\n",
    "    runtime_flr = [0] * 10\n",
    "    for j in range(0, 10):\n",
    "        # compute time for each function\n",
    "        start_time = time.time()\n",
    "        fib_rec(i)\n",
    "        runtime_rec[j] = time.time()-start_time\n",
    "        \n",
    "        start_time = time.time()\n",
    "        fib_for(i)\n",
    "        runtime_for[j] = time.time()-start_time\n",
    "        \n",
    "        start_time = time.time()\n",
    "        fib_whl(i)\n",
    "        runtime_whl[j] = time.time()-start_time\n",
    "        \n",
    "        start_time = time.time()\n",
    "        fib_rnd(i)\n",
    "        runtime_rnd[j] = time.time()-start_time\n",
    "        \n",
    "        start_time = time.time()\n",
    "        fib_flr(i)\n",
    "        runtime_flr[j] = time.time()-start_time\n",
    "    \n",
    "    # take the median for the runtime and store it in associated series\n",
    "    df.loc[df[\"F_n\"] == i, \"Recursive Method\"] = median(runtime_rec)\n",
    "    df.loc[df[\"F_n\"] == i, \"For Loop Method\"] = median(runtime_for)\n",
    "    df.loc[df[\"F_n\"] == i, \"While Loop Method\"] = median(runtime_whl)\n",
    "    df.loc[df[\"F_n\"] == i, \"Rounding Method\"] = median(runtime_rnd)\n",
    "    df.loc[df[\"F_n\"] == i, \"Floor Method\"] = median(runtime_flr)\n",
    "\n",
    "#print results\n",
    "df.style.set_table_attributes(\n",
    "    \"style='display:inline'\").set_caption(\n",
    "    \"Runtime of Various Fibonacci Sequence Calculation Methods\")\n",
    "print(df.to_markdown())"
   ]
  },
  {
   "cell_type": "markdown",
   "id": "c77d1c90",
   "metadata": {},
   "source": [
    "## Problem 2\n",
    "### Part a"
   ]
  },
  {
   "cell_type": "code",
   "execution_count": 197,
   "id": "9b652260",
   "metadata": {},
   "outputs": [
    {
     "data": {
      "text/plain": [
       "[1, 7.0, 21.0, 35.0, 35.0, 21.0, 7.0, 1.0]"
      ]
     },
     "execution_count": 197,
     "metadata": {},
     "output_type": "execute_result"
    }
   ],
   "source": [
    "\"\"\"\n",
    "    Computes Pascal's Triangle at row n.\n",
    "\n",
    "    Parameters\n",
    "    ----------\n",
    "    n : integer\n",
    "        the row of Pascal's triangle to compute\n",
    "\n",
    "     Returns\n",
    "     -------\n",
    "     An array of all the values of \n",
    "     Pascal's triangle for row n.\n",
    "\n",
    "\"\"\"\n",
    "def rowPascal(n):\n",
    "    if n == 0:\n",
    "        return([1])\n",
    "    else:\n",
    "        rowN = [0]*(n+1)\n",
    "        rowN[0] = 1\n",
    "        for k in range(1, n+1):\n",
    "            rowN[k] = rowN[k-1] * ((n + 1 - k)/k)\n",
    "        return(rowN)\n",
    "        \n",
    "rowPascal(7)        "
   ]
  },
  {
   "cell_type": "markdown",
   "id": "cedf138e",
   "metadata": {},
   "source": [
    "### Part b\n",
    "Reference for center function [here](https://www.w3schools.com/python/ref_string_center.asp)"
   ]
  },
  {
   "cell_type": "code",
   "execution_count": 198,
   "id": "74d16f69",
   "metadata": {},
   "outputs": [
    {
     "name": "stdout",
     "output_type": "stream",
     "text": [
      "                1                \n",
      "               1 1               \n",
      "              1 2 1              \n",
      "             1 3 3 1             \n",
      "            1 4 6 4 1            \n",
      "          1 5 10 10 5 1          \n",
      "         1 6 15 20 15 6 1        \n",
      "       1 7 21 35 35 21 7 1       \n",
      "      1 8 28 56 70 56 28 8 1     \n",
      "   1 9 36 84 126 126 84 36 9 1   \n",
      "1 10 45 120 210 252 210 120 45 10 1\n"
     ]
    }
   ],
   "source": [
    "\"\"\"\n",
    "    Prints the first n rows of Pascal's Triangle.\n",
    "\n",
    "    Parameters\n",
    "    ----------\n",
    "    n : integer\n",
    "        the number of rows of Pascal's triangle to print\n",
    "\n",
    "     Returns\n",
    "     -------\n",
    "     Nothing.\n",
    "\n",
    "\"\"\"\n",
    "def printPascal(n):\n",
    "    for i in range(0, n + 1):\n",
    "        out = ' '.join([str(int(elem)) for elem in rowPascal(i)])   \n",
    "        print(out.center(3*(n+1)))\n",
    "        \n",
    "printPascal(10)   "
   ]
  },
  {
   "cell_type": "markdown",
   "id": "d225d4c3",
   "metadata": {},
   "source": [
    "## Question 3\n",
    "### Part a\n",
    "\n",
    "Reference for stats.norm.ppf [here](https://stackoverflow.com/questions/20864847/probability-to-z-score-and-vice-versa).\n",
    "Reference for stats.sem [here](https://docs.scipy.org/doc/scipy/reference/generated/scipy.stats.sem.html)"
   ]
  },
  {
   "cell_type": "code",
   "execution_count": 199,
   "id": "7de6cfc5",
   "metadata": {},
   "outputs": [],
   "source": [
    "\"\"\"\n",
    "    Compute point and confidence interval estimates for \n",
    "    the mean of a 1d numpy array.\n",
    "\n",
    "    Parameters\n",
    "    ----------\n",
    "    est: float\n",
    "        the estimate of the mean\n",
    "    \n",
    "    lwr: float\n",
    "        the lower estimate of the level% CI\n",
    "    \n",
    "    upr: float\n",
    "        the upper estimate of the level% CI\n",
    "        \n",
    "    level: float\n",
    "        the confidence level to compute, as a decimal \n",
    "    \n",
    "    form: string\n",
    "        must have 4 fields to format\n",
    "        if specified, adds results to specified format\n",
    "\n",
    "     Returns\n",
    "     -------\n",
    "     String in the format specified by form.\n",
    "\n",
    "\"\"\"\n",
    "def printPrettyCI(est, lwr, upr, level, \n",
    "                  form = \"{0:.7f} [{1:.0f}%CI: ({2:.7f},{3:.7f})]\"):\n",
    "    ciStr = form\n",
    "    formatStr = ciStr.format(est, level * 100, lwr, upr)\n",
    "    return(formatStr)\n",
    "\n",
    "    "
   ]
  },
  {
   "cell_type": "code",
   "execution_count": 200,
   "id": "7232797c",
   "metadata": {},
   "outputs": [
    {
     "data": {
      "text/plain": [
       "'0.4666667 [95%CI: (0.3630199,0.5703135)]'"
      ]
     },
     "execution_count": 200,
     "metadata": {},
     "output_type": "execute_result"
    }
   ],
   "source": [
    "\"\"\"\n",
    "    Compute point and confidence interval estimates for \n",
    "    the mean of a 1d numpy array.\n",
    "\n",
    "    Parameters\n",
    "    ----------\n",
    "    dat : 1-d numpy array\n",
    "        the data to calculate the mean and estimates for\n",
    "    interval : float\n",
    "        the % confidence interval desired represented as a decimal\n",
    "\n",
    "     Returns\n",
    "     -------\n",
    "     String in the format \n",
    "     (point estimate)[(confidencelevelCI)%CI: (lower estimate, upper estimate)].\n",
    "\n",
    "\"\"\"\n",
    "def intervalEstNorm(dat, interval, \n",
    "                    form = \"{0:.7f} [{1:.0f}%CI: ({2:.7f},{3:.7f})]\"):\n",
    "    dat = np.array(dat)\n",
    "    m = dat.mean()\n",
    "    # calculate associated z score for interval\n",
    "    z = st.norm.ppf(1-(1-interval)/2)\n",
    "    se = st.sem(dat)\n",
    "    return(printPrettyCI(m, m - (z*se), m + (z*se), interval,\n",
    "                        form))\n",
    "\n",
    "intervalEstNorm(np.array(([0]*48) + ([1]*42)), 0.95)\n",
    "    "
   ]
  },
  {
   "cell_type": "markdown",
   "id": "2d12c22c",
   "metadata": {},
   "source": [
    "### Part B \n",
    "Reference for stats.beta [here](https://docs.scipy.org/doc/scipy/reference/generated/scipy.stats.beta.html)"
   ]
  },
  {
   "cell_type": "code",
   "execution_count": 201,
   "id": "1d50a835",
   "metadata": {},
   "outputs": [
    {
     "name": "stdout",
     "output_type": "stream",
     "text": [
      "0.4666667 [95%CI: (0.3635973,0.5697360)]\n",
      "0.4666667 [95%CI: (0.3607157,0.5748727)]\n",
      "0.4666667 [95%CI: (0.3660149,0.4635029)]\n",
      "0.4666667 [95%CI: (0.1554863,0.3330127)]\n"
     ]
    }
   ],
   "source": [
    "\"\"\"\n",
    "    Compute point and confidence interval estimates for \n",
    "    the mean of a 1d numpy array using one of four\n",
    "    different methods: \"Normal Approximation\", \"Clopper-Pearson\",\n",
    "    \"Jeffrey's\", \"Agresti-Coull\".\n",
    "\n",
    "    Parameters\n",
    "    ----------\n",
    "    dat : 1-d numpy array\n",
    "        the data to calculate the mean and estimates for\n",
    "    interval : float\n",
    "        the % confidence interval desired represented as a decimal\n",
    "    method : string\n",
    "        one of \"Normal Approximation\", \"Clopper-Pearson\",\n",
    "        \"Jeffrey's\", \"Agresti-Coull\"\n",
    "        the method used to compute the confidence interval\n",
    "    form : string\n",
    "        the format to be passed to printPrettyCI().\n",
    "        if None, returns a dictionary\n",
    "\n",
    "     Returns\n",
    "     -------\n",
    "     String in the format specified by form, \n",
    "     or dictionary of {est, lwr, upr, level} if form = None.\n",
    "\n",
    "\"\"\"\n",
    "def intervalEst(dat, interval, method, \n",
    "                form = \"{0:.7f} [{1:.0f}%CI: ({2:.7f},{3:.7f})]\"):\n",
    "    # declare constants\n",
    "    dat = np.array(dat)\n",
    "    n = dat.size\n",
    "    x = dat.sum() #number of successes\n",
    "    phat = x / n\n",
    "    z = st.norm.ppf(1-(1-interval)/2)\n",
    "    alpha = 1 - interval\n",
    "    \n",
    "    #calculate lower and upper bounds for each method\n",
    "    if method == \"Normal Approximation\":\n",
    "        if (n*phat <=12) or (n*(1-phat) <= 12):\n",
    "            print(\"Warning: n time phat or n times (1-phat) <= 12\")\n",
    "        lwr = phat - z * np.sqrt((phat * (1-phat))/n)\n",
    "        upr = phat + z * np.sqrt((phat * (1-phat))/n)\n",
    "\n",
    "        \n",
    "    elif method == \"Clopper-Pearson\":\n",
    "        lwr = st.beta.ppf(alpha/2, x, n-x+1)\n",
    "        upr = st.beta.ppf(1-(alpha/2), x + 1, n - x)\n",
    "        \n",
    "    elif method == \"Jeffrey's\":\n",
    "        lwr = max(0, st.beta.ppf(alpha/2, x + 0.5, n - x + 0.5))\n",
    "        upr = min(1, st.beta.ppf((1-alpha)/2, x + 0.5, n - x + 0.5))\n",
    "    \n",
    "    elif method == \"Agresti-Coull\":\n",
    "        ntilde = n + (z ** 2)\n",
    "        ptilde = ((x + (z**2))/2)/ntilde\n",
    "        lwr = ptilde - z * np.sqrt((ptilde * (1-ptilde))/n)\n",
    "        upr = ptilde + z * np.sqrt((ptilde * (1-ptilde))/n)\n",
    "    \n",
    "    else:\n",
    "        print(\"Not a valid method: Please try again.\")\n",
    "        return(0)\n",
    "    \n",
    "    if form == None:\n",
    "        return({\"est\": phat, \"lwr\": lwr, \"upr\":upr, \"level\":interval})\n",
    "    \n",
    "    return(printPrettyCI(phat, lwr, upr, interval, form))\n",
    "\n",
    "dat = np.array(([0]*48) + ([1]*42))\n",
    "for i in [\"Normal Approximation\", \"Clopper-Pearson\",\n",
    "        \"Jeffrey's\", \"Agresti-Coull\"]:\n",
    "    print(intervalEst(dat, 0.95, i))"
   ]
  },
  {
   "cell_type": "markdown",
   "id": "4fe102d8",
   "metadata": {},
   "source": [
    "### Part C"
   ]
  },
  {
   "cell_type": "code",
   "execution_count": 202,
   "id": "a4839db6",
   "metadata": {},
   "outputs": [
    {
     "name": "stdout",
     "output_type": "stream",
     "text": [
      "   Confidence Level          Normal Theory   Normal Approximation  \\\n",
      "0              0.90  (0.3796835,0.5536498)  (0.3801681,0.5531652)   \n",
      "1              0.95  (0.3630199,0.5703135)  (0.3635973,0.5697360)   \n",
      "2              0.99  (0.3304517,0.6028816)  (0.3312106,0.6021228)   \n",
      "\n",
      "         Clopper-Pearson              Jeffrey's          Agresti-Coull  \n",
      "0  (0.3764705,0.5585500)  (0.3818277,0.4602046)  (0.1669495,0.3152821)  \n",
      "1  (0.3607157,0.5748727)  (0.3660149,0.4635029)  (0.1554863,0.3330127)  \n",
      "2  (0.3305690,0.6063851)  (0.3357343,0.4661332)  (0.1338162,0.3694689)  \n"
     ]
    }
   ],
   "source": [
    "dat = np.array(([0]*48) + ([1]*42))\n",
    "form = \"({2:.7f},{3:.7f})\"\n",
    "levels = [0.9, 0.95, 0.99]\n",
    "methods = [\"Normal Approximation\",\"Clopper-Pearson\",\n",
    "        \"Jeffrey's\", \"Agresti-Coull\"]\n",
    "\n",
    "#start with normal method\n",
    "norm = [intervalEstNorm(dat, i, form) for i in levels]\n",
    "df = pd.DataFrame({\"Confidence Level\":levels,\"Normal Theory\":norm})\n",
    "\n",
    "#for each method,\n",
    "for m in methods:\n",
    "    values = [intervalEst(dat, i, m, form) for i in levels]\n",
    "    df[m] = values\n",
    "print(df)\n"
   ]
  },
  {
   "cell_type": "markdown",
   "id": "b8c20bba",
   "metadata": {},
   "source": [
    "For all of the confidence interval methods, the Jeffrey's method gives us the smallest width."
   ]
  },
  {
   "cell_type": "code",
   "execution_count": null,
   "id": "56b176dc",
   "metadata": {},
   "outputs": [],
   "source": []
  }
 ],
 "metadata": {
  "kernelspec": {
   "display_name": "Python 3 (ipykernel)",
   "language": "python",
   "name": "python3"
  },
  "language_info": {
   "codemirror_mode": {
    "name": "ipython",
    "version": 3
   },
   "file_extension": ".py",
   "mimetype": "text/x-python",
   "name": "python",
   "nbconvert_exporter": "python",
   "pygments_lexer": "ipython3",
   "version": "3.9.7"
  }
 },
 "nbformat": 4,
 "nbformat_minor": 5
}
